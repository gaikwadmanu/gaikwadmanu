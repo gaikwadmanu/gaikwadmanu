{
 "cells": [
  {
   "cell_type": "code",
   "execution_count": 10,
   "id": "ff1694e3",
   "metadata": {},
   "outputs": [],
   "source": [
    "import numpy as np\n",
    "\n",
    "x = [75,62,80,56,35,47,68,90,70,45]\n",
    "y= [64,60,76,65,45,50,60,75,25,50]"
   ]
  },
  {
   "cell_type": "code",
   "execution_count": 11,
   "id": "93d1a43a",
   "metadata": {},
   "outputs": [
    {
     "name": "stdout",
     "output_type": "stream",
     "text": [
      "Statistics for x\n",
      "\n",
      "Average 62.8\n",
      "\n",
      "Mean:  62.8\n",
      "\n",
      "std(1):  16.277591959500644\n",
      "std(2):  16.277591959500644\n",
      "\n",
      "variance(1):  264.96000000000004\n",
      "variance(2):  264.96000000000004\n"
     ]
    }
   ],
   "source": [
    "x = [75,62,80,56,35,47,68,90,70,45]\n",
    "\n",
    "print(\"Statistics for x\")\n",
    "\n",
    "r1 = np.average(x)\n",
    "print(\"\\nAverage\",r1)\n",
    "\n",
    "r2 = np.mean(x)\n",
    "print(\"\\nMean: \", r2)\n",
    "\n",
    "r3_1 = np.std(x)\n",
    "r3_2 = np.sqrt(np.mean((x - np.mean(x)) ** 2 ))\n",
    "print(\"\\nstd(1): \", r3_1)\n",
    "print(\"std(2): \", r3_2)\n",
    "\n",
    "r4_1= np.var(x)\n",
    "r4_2 = np.mean((x - np.mean(x)) ** 2 )\n",
    "print(\"\\nvariance(1): \", r4_1)\n",
    "print(\"variance(2): \", r4_2)"
   ]
  },
  {
   "cell_type": "code",
   "execution_count": 14,
   "id": "17b73aeb",
   "metadata": {},
   "outputs": [
    {
     "name": "stdout",
     "output_type": "stream",
     "text": [
      "Statistics for y\n",
      "\n",
      "Average 5.714285714285714\n",
      "\n",
      "Mean:  5.714285714285714\n",
      "\n",
      "std(1):  3.640288543545979\n",
      "std(2):  3.640288543545979\n",
      "\n",
      "variance(1):  13.251700680272105\n",
      "variance(2):  13.251700680272105\n"
     ]
    }
   ],
   "source": [
    "y= [64,60,76,65,45,50,60,75,25,50]\n",
    "\n",
    "print(\"Statistics for y\")\n",
    "\n",
    "r1 = np.average(y)\n",
    "print(\"\\nAverage\",r1)\n",
    "\n",
    "r2 = np.mean(y)\n",
    "print(\"\\nMean: \", r2)\n",
    "\n",
    "r3_1 = np.std(y)\n",
    "r3_2 = np.sqrt(np.mean((y - np.mean(y)) ** 2 ))\n",
    "print(\"\\nstd(1): \", r3_1)\n",
    "print(\"std(2): \", r3_2)\n",
    "\n",
    "r4_1= np.var(y)\n",
    "r4_2 = np.mean((y - np.mean(y)) ** 2 )\n",
    "print(\"\\nvariance(1): \", r4_1)\n",
    "print(\"variance(2): \", r4_2)"
   ]
  },
  {
   "cell_type": "code",
   "execution_count": 12,
   "id": "8886aabc",
   "metadata": {},
   "outputs": [
    {
     "name": "stdout",
     "output_type": "stream",
     "text": [
      "Median is: 41.0\n"
     ]
    }
   ],
   "source": [
    "X = [75,62,80,56,35,47,68,90,70,45]\n",
    "n = len(X) \n",
    "X.sort() \n",
    "\n",
    "if n % 2 == 0: \n",
    "\tmedian1 = x[n//2] \n",
    "\tmedian2 = x[n//2 - 1] \n",
    "\tmedian = (median1 + median2)/2\n",
    "else: \n",
    "\tmedian = x[n//2] \n",
    "print(\"Median is: \" + str(median))"
   ]
  },
  {
   "cell_type": "code",
   "execution_count": 13,
   "id": "1a580fb9",
   "metadata": {},
   "outputs": [
    {
     "name": "stdout",
     "output_type": "stream",
     "text": [
      "\n",
      "Original array(X):\n",
      "[75, 62, 80, 56, 35, 47, 68, 90, 70, 45]\n",
      "\n",
      "Original array(Y):\n",
      "[64, 60, 76, 65, 45, 50, 60, 75, 25, 50]\n",
      "\n",
      "Covariance matrix of the said arrays:\n",
      " [[294.4        133.22222222]\n",
      " [133.22222222 231.33333333]]\n"
     ]
    }
   ],
   "source": [
    "print(\"\\nOriginal array(X):\")\n",
    "print(x)\n",
    "print(\"\\nOriginal array(Y):\")\n",
    "print(y)\n",
    "print(\"\\nCovariance matrix of the said arrays:\\n\",np.cov(x, y))\n"
   ]
  },
  {
   "cell_type": "code",
   "execution_count": 1,
   "id": "7387cea7",
   "metadata": {},
   "outputs": [
    {
     "data": {
      "text/plain": [
       "(array([1., 0., 0., 1., 2., 0., 2., 2., 0., 2.]),\n",
       " array([25. , 30.1, 35.2, 40.3, 45.4, 50.5, 55.6, 60.7, 65.8, 70.9, 76. ]),\n",
       " <BarContainer object of 10 artists>)"
      ]
     },
     "execution_count": 1,
     "metadata": {},
     "output_type": "execute_result"
    },
    {
     "data": {
      "image/png": "[encoded data removed]",
      "text/plain": [
       "<Figure size 640x480 with 1 Axes>"
      ]
     },
     "metadata": {},
     "output_type": "display_data"
    }
   ],
   "source": [
    "y= [64,60,76,65,45,50,60,75,25,50]\n",
    "import matplotlib.pyplot as plt\n",
    "plt.hist(y)"
   ]
  },
  {
   "cell_type": "code",
   "execution_count": 3,
   "id": "abcbc4b1",
   "metadata": {},
   "outputs": [
    {
     "data": {
      "image/png": "[encoded data removed]",
      "text/plain": [
       "<Figure size 640x480 with 1 Axes>"
      ]
     },
     "metadata": {},
     "output_type": "display_data"
    }
   ],
   "source": [
    "x = [75,62,80,56,35,47,68,90,70,45]\n",
    "plt.boxplot(x)\n",
    "plt.show()"
   ]
  },
  {
   "cell_type": "code",
   "execution_count": null,
   "id": "f1951acd",
   "metadata": {},
   "outputs": [],
   "source": []
  }
 ],
 "metadata": {
  "kernelspec": {
   "display_name": "Python 3 (ipykernel)",
   "language": "python",
   "name": "python3"
  },
  "language_info": {
   "codemirror_mode": {
    "name": "ipython",
    "version": 3
   },
   "file_extension": ".py",
   "mimetype": "text/x-python",
   "name": "python",
   "nbconvert_exporter": "python",
   "pygments_lexer": "ipython3",
   "version": "3.9.13"
  }
 },
 "nbformat": 4,
 "nbformat_minor": 5
}
